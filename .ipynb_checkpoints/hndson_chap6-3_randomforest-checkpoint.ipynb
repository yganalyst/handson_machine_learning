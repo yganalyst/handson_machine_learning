{
 "cells": [
  {
   "cell_type": "markdown",
   "metadata": {},
   "source": [
    "## 랜덤포레스트"
   ]
  },
  {
   "cell_type": "markdown",
   "metadata": {},
   "source": [
    "[결정트리 포스팅](https://yganalyst.github.io/study/ML_chap5/)에서도 언급했듯이, 랜덤포레스트는 일반적으로 [배깅(또는 페이스팅)](https://yganalyst.github.io/study/ML_chap6-2/)을 적용한 결정트리의 앙상블이다.  \n",
    "\n",
    "앞의 포스팅에서 사용했었던 `BaggingClassifier`에 `DecisionTreeClassifier`를 넣어 앙상블을 만드는 대신  \n",
    "결정트리에 최적화되어 있는 `RandomForestClassifier`를 사용할 수 있다(회귀는 `RandomForestRegressor`).  \n",
    "\n",
    "\n",
    "다음 500개 트리로 이루어진 랜덤포레스트 분류기를 훈련시키는 코드를 보자.  "
   ]
  },
  {
   "cell_type": "code",
   "execution_count": 1,
   "metadata": {},
   "outputs": [],
   "source": [
    "# moon dataset\n",
    "from sklearn.model_selection import train_test_split\n",
    "from sklearn.datasets import make_moons\n",
    "\n",
    "X, y = make_moons(n_samples=500, noise=0.30, random_state=42)\n",
    "X_train, X_test, y_train, y_test = train_test_split(X, y, random_state=42)"
   ]
  },
  {
   "cell_type": "code",
   "execution_count": 2,
   "metadata": {},
   "outputs": [],
   "source": [
    "from sklearn.ensemble import RandomForestClassifier\n",
    "\n",
    "rnd_clf = RandomForestClassifier(n_estimators=500, max_leaf_nodes=16, n_jobs=-1)\n",
    "rnd_clf.fit(X_train, y_train)\n",
    "\n",
    "y_pred_rf = rnd_clf.predict(X_test)"
   ]
  },
  {
   "cell_type": "markdown",
   "metadata": {},
   "source": [
    "`RandomForestClassifier`는 (예외가 있지만)`DecisionTreeClassifier`와 `BaggingClassifier`의 매개변수를 모두 가지고 있다.  \n",
    "\n",
    "\n",
    "예외인 옵션들의 기본값(변경불가)들은 다음과 같다. \n",
    "- `splitter` : 항상 `best`  \n",
    "- `presort` : 항상 False  \n",
    "- `max_samples` : 항상 1  \n",
    "- `base_estimator` : 항상 지정된 매개변수를 사용한 결정트리 모델  "
   ]
  },
  {
   "cell_type": "markdown",
   "metadata": {},
   "source": [
    "랜덤포레스트는 트리의 노드를 분할할 때 전체 변수 중에서 최선의 변수를 찾는 대신, 무작위로 선택한 변수 후보 중에서 최적의 변수를 찾는 식으로 무작위성을 더 주입한다([결정트리](https://yganalyst.github.io/study/ML_chap5/) 참고).  \n",
    "\n",
    "\n",
    "이는 결국 트리를 더욱 다양하게 만들고 편향을 손해 보는 대신 분산을 낮추어 전체적으로 더 훌륭한 모델을 만든다.  \n",
    "\n",
    "\n",
    "다음은 `BaggingClassifier`를 사용해 랜덤포레스트와 유사하게 만든 것이다.  \n"
   ]
  },
  {
   "cell_type": "code",
   "execution_count": 4,
   "metadata": {},
   "outputs": [],
   "source": [
    "from sklearn.ensemble import BaggingClassifier\n",
    "from sklearn.tree import DecisionTreeClassifier\n",
    "\n",
    "bag_clf = BaggingClassifier(DecisionTreeClassifier(splitter='random',\n",
    "                                                  max_leaf_nodes=16),\n",
    "                           n_estimators=500,\n",
    "                           max_samples=1.0,\n",
    "                           bootstrap=True,\n",
    "                           n_jobs=-1)"
   ]
  },
  {
   "cell_type": "markdown",
   "metadata": {},
   "source": [
    "### 엑스트라 트리  "
   ]
  },
  {
   "cell_type": "markdown",
   "metadata": {},
   "source": [
    "앞에서 언급한 랜덤 포레스트의 핵심은 **트리를 더욱 무작위하게 만들기 위해, 일반적인 결정트리모델처럼 최적의 임계값을 찾는 대신 후보 변수를 사용해 무작위로 분할해 그 중 최상의 분할을 선택**하는 것이다.  \n",
    "\n",
    "\n",
    "이러한 원리를 더 극단적으로 사용한 것을 랜덤트리 앙상블, 줄여서 **엑스트라 트리(Extra-Trees)** 라고 부른다.  \n",
    "\n",
    "\n",
    "사이킷런에서는 이 두가지 모델을 모두 제공한다.  \n",
    "`ExtraTreesClassifier`와 `RandomForesetClassifier`이며 Regressor도 같은 API를 제공한다.  "
   ]
  },
  {
   "cell_type": "markdown",
   "metadata": {},
   "source": [
    "### 변수(features) 중요도  "
   ]
  },
  {
   "cell_type": "markdown",
   "metadata": {},
   "source": [
    "랜덤포레스트의 또 다른 장점 중 하나가 변수의 상대적 중요도를 측정할 수 있다는 것이다.  \n",
    "\n",
    "\n",
    "어떤 변수를 사용한 노드가 (전체 트리에 대해)평균적으로 불순도를 얼마나 감소시키는지 확인하여 중요도를 측정한다.  \n",
    "\n",
    "\n",
    "이는 결국 가중치평균이며 각 노드의 가중치는 연관된 훈련 샘플 수와 같다.  \n",
    "> - 중요도 = `(현재 노드의 샘플 비율 X 불순도) - (왼쪽 자식 노드의 샘플 비율 X 불순도) - (오른쪽 자식노드의 샘플 비율 X 불순도)`  \n",
    "> - 전체 중요도의 합으로 나누어 정규화  \n",
    "> - 여기서 샘필 비율이란, 전체 샘플 수에 대한 해당 노드의 샘플 수  \n",
    "> - 마지막으로 랜덤포레스트의 변수 중요도는, 각 결정트리의 `변수 중요도의 합 / 트리 수` 이다.   "
   ]
  },
  {
   "cell_type": "markdown",
   "metadata": {},
   "source": [
    "사이킷런은 훈련 후 변수마다 자동으로 이 중요도를 계산하고 전체 합이 1이 되도록 정규화를 한다.  \n",
    "이는 `feature_importances_`에 저장되어 있다.  \n",
    "\n",
    "\n",
    "다음 코드는 iris데이터셋에 랜덤포레스트를 훈련시키고 중요도를 출력한 것이다.  "
   ]
  },
  {
   "cell_type": "code",
   "execution_count": 16,
   "metadata": {},
   "outputs": [
    {
     "name": "stdout",
     "output_type": "stream",
     "text": [
      "sepal length (cm) 0.09193700831457226\n",
      "sepal width (cm) 0.02303133424063586\n",
      "petal length (cm) 0.4503310122507622\n",
      "petal width (cm) 0.43470064519402973\n"
     ]
    }
   ],
   "source": [
    "from sklearn.datasets import load_iris\n",
    "iris = load_iris()\n",
    "rnd_clf = RandomForestClassifier(n_estimators=500,n_jobs=-1)\n",
    "rnd_clf.fit(iris[\"data\"], iris[\"target\"])\n",
    "for name, score in zip(iris[\"feature_names\"], rnd_clf.feature_importances_):\n",
    "    print(name, score)"
   ]
  },
  {
   "cell_type": "markdown",
   "metadata": {},
   "source": [
    "변수는 총 4개이고, 위의 4개 점수를 합하면 1이된다.  \n",
    "즉, 꽃잎의 길이(petal length)와 꽃잎의 너비(petal width)가 각각 45%, 43%로 가장 높다.  \n",
    "\n",
    "\n",
    "이와 유사하게 이전 포스팅 [분류(Classification)](https://yganalyst.github.io/study/ML_chap2/)에서 다루었던 MNIST데이터셋에도 적용해 본다면 다음과 같다.  "
   ]
  },
  {
   "cell_type": "code",
   "execution_count": 17,
   "metadata": {},
   "outputs": [],
   "source": [
    "import pandas as pd\n",
    "import numpy as np\n",
    "import matplotlib\n",
    "import matplotlib.pyplot as plt\n",
    "\n",
    "def sort_by_target(mnist):\n",
    "    reorder_train = np.array(sorted([(target, i) for i, target in enumerate(mnist.target[:60000])]))[:, 1]\n",
    "    reorder_test = np.array(sorted([(target, i) for i, target in enumerate(mnist.target[60000:])]))[:, 1]\n",
    "    mnist.data[:60000] = mnist.data[reorder_train]\n",
    "    mnist.target[:60000] = mnist.target[reorder_train]\n",
    "    mnist.data[60000:] = mnist.data[reorder_test + 60000]\n",
    "    mnist.target[60000:] = mnist.target[reorder_test + 60000]\n",
    "\n",
    "from sklearn.datasets import fetch_openml\n",
    "mnist = fetch_openml('mnist_784', version=1, cache=True)\n",
    "mnist.target = mnist.target.astype(np.int8) # fetch_openml() returns targets as strings"
   ]
  },
  {
   "cell_type": "code",
   "execution_count": 25,
   "metadata": {},
   "outputs": [],
   "source": [
    "from sklearn.model_selection import train_test_split\n",
    "X_train, X_test, y_train, y_test = train_test_split(mnist['data'], mnist['target'],test_size = 0.2, random_state=42)"
   ]
  },
  {
   "cell_type": "code",
   "execution_count": 27,
   "metadata": {},
   "outputs": [
    {
     "data": {
      "text/plain": [
       "RandomForestClassifier(bootstrap=True, class_weight=None, criterion='gini',\n",
       "                       max_depth=None, max_features='auto', max_leaf_nodes=None,\n",
       "                       min_impurity_decrease=0.0, min_impurity_split=None,\n",
       "                       min_samples_leaf=1, min_samples_split=2,\n",
       "                       min_weight_fraction_leaf=0.0, n_estimators=500,\n",
       "                       n_jobs=-1, oob_score=False, random_state=None, verbose=0,\n",
       "                       warm_start=False)"
      ]
     },
     "execution_count": 27,
     "metadata": {},
     "output_type": "execute_result"
    }
   ],
   "source": [
    "from sklearn.ensemble import RandomForestClassifier\n",
    "\n",
    "rnd_clf = RandomForestClassifier(n_estimators=500, n_jobs=-1)\n",
    "rnd_clf.fit(X_train, y_train)\n",
    "\n"
   ]
  },
  {
   "cell_type": "code",
   "execution_count": 40,
   "metadata": {},
   "outputs": [
    {
     "data": {
      "image/png": "[encoded data removed]",
      "text/plain": [
       "<Figure size 432x432 with 2 Axes>"
      ]
     },
     "metadata": {
      "needs_background": "light"
     },
     "output_type": "display_data"
    }
   ],
   "source": [
    "scores = rnd_clf.feature_importances_.reshape(28,28)\n",
    "plt.figure(figsize=(6,6))\n",
    "plt.imshow(scores, cmap = matplotlib.cm.hot,\n",
    "          interpolation=\"nearest\")\n",
    "plt.axis(\"off\")\n",
    "cbar = plt.colorbar(ticks=[scores.min(),\n",
    "                          scores.max()])\n",
    "cbar.ax.set_yticklabels(['not important', 'very important'])\n",
    "plt.show()"
   ]
  },
  {
   "cell_type": "markdown",
   "metadata": {},
   "source": [
    "총 784개(28X28)의 변수들의 중요도를 나타내어 준다.  "
   ]
  }
 ],
 "metadata": {
  "kernelspec": {
   "display_name": "Python 3",
   "language": "python",
   "name": "python3"
  },
  "language_info": {
   "codemirror_mode": {
    "name": "ipython",
    "version": 3
   },
   "file_extension": ".py",
   "mimetype": "text/x-python",
   "name": "python",
   "nbconvert_exporter": "python",
   "pygments_lexer": "ipython3",
   "version": "3.7.4"
  }
 },
 "nbformat": 4,
 "nbformat_minor": 2
}
